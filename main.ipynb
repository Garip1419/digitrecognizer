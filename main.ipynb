{
 "cells": [
  {
   "cell_type": "code",
   "execution_count": 1,
   "metadata": {},
   "outputs": [],
   "source": [
    "import torch\n",
    "import math\n",
    "import numpy as np\n",
    "dtype = torch.float\n",
    "device = \"cuda\" if torch.cuda.is_available() else \"cpu\"\n",
    "import pandas as pd\n",
    "from PIL import Image\n",
    "import utils\n",
    "from torch.utils.data import DataLoader\n",
    "import model\n",
    "import importlib\n",
    "from train import trainmodel\n",
    "from sklearn.model_selection import train_test_split\n"
   ]
  },
  {
   "cell_type": "code",
   "execution_count": 2,
   "metadata": {},
   "outputs": [
    {
     "name": "stdout",
     "output_type": "stream",
     "text": [
      "Skipping, found downloaded files in \"./digit-recognizer\" (use force=True to force download)\n"
     ]
    }
   ],
   "source": [
    "# Loading dataset via Kaggle\n",
    "import opendatasets as od\n",
    "import pandas\n",
    "\n",
    "od.download(\"https://www.kaggle.com/competitions/digit-recognizer/data\")"
   ]
  },
  {
   "cell_type": "code",
   "execution_count": 3,
   "metadata": {},
   "outputs": [],
   "source": [
    "# Loading datasets into dataframe and arrays\n",
    "file = ('./digit-recognizer/train.csv')\n",
    "testfile = ('./digit-recognizer/test.csv')\n",
    "df = pd.read_csv(file)\n",
    "dftest = pd.read_csv(testfile)\n",
    "y = np.array(df.label)\n",
    "x = np.array(df)[:,1:]\n",
    "x_test = np.array(dftest)"
   ]
  },
  {
   "cell_type": "code",
   "execution_count": 4,
   "metadata": {},
   "outputs": [],
   "source": [
    "# Splitting into train and eval\n",
    "x_train, x_eval, y_train, y_eval = train_test_split(\n",
    "    x, y, test_size=0.2, random_state=1)"
   ]
  },
  {
   "cell_type": "code",
   "execution_count": 5,
   "metadata": {},
   "outputs": [],
   "source": [
    "# Displaying image and label of index (i'th) image in training set, not important\n",
    "def pixtoimg(index):\n",
    "  pixels = x_test[index].reshape(28,28)\n",
    "  img = Image.fromarray(pixels.astype('uint8'))\n",
    "  img.show()\n",
    "##################################################################################\n",
    "\n"
   ]
  },
  {
   "cell_type": "code",
   "execution_count": 6,
   "metadata": {},
   "outputs": [],
   "source": [
    "# Setting parameters for dataloader\n",
    "parameters = {'batch_size':32, 'shuffle':True}\n",
    "dataset = utils.digitdataset(x_train, y_train)\n",
    "dataseteval = utils.digitdataset(x_eval, y_eval)\n",
    "training_generator = DataLoader(dataset, **parameters)\n",
    "eval_generator = DataLoader(dataseteval, **parameters)\n"
   ]
  },
  {
   "cell_type": "code",
   "execution_count": 7,
   "metadata": {},
   "outputs": [],
   "source": [
    "# Initializing model\n",
    "cnn = model.ConvNeuralNet(10)"
   ]
  },
  {
   "cell_type": "code",
   "execution_count": 8,
   "metadata": {},
   "outputs": [
    {
     "name": "stdout",
     "output_type": "stream",
     "text": [
      "Epoch [1/20], Loss: 0.2332\n",
      "Epoch [1/20], Eval: 95.9762 %\n",
      "Epoch [2/20], Loss: 0.0700\n",
      "Epoch [2/20], Eval: 96.3452 %\n",
      "Epoch [3/20], Loss: 0.0453\n",
      "Epoch [3/20], Eval: 97.5238 %\n",
      "Epoch [4/20], Loss: 0.0354\n",
      "Epoch [4/20], Eval: 98.0238 %\n",
      "Epoch [5/20], Loss: 0.0280\n",
      "Epoch [5/20], Eval: 98.0238 %\n",
      "Epoch [6/20], Loss: 0.0192\n",
      "Epoch [6/20], Eval: 98.3214 %\n",
      "Epoch [7/20], Loss: 0.0195\n",
      "Epoch [7/20], Eval: 98.3214 %\n",
      "Epoch [8/20], Loss: 0.0170\n",
      "Epoch [8/20], Eval: 97.9881 %\n",
      "Epoch [9/20], Loss: 0.0138\n",
      "Epoch [9/20], Eval: 98.4167 %\n",
      "Epoch [10/20], Loss: 0.0109\n",
      "Epoch [10/20], Eval: 98.3690 %\n",
      "Epoch [11/20], Loss: 0.0133\n",
      "Epoch [11/20], Eval: 98.3095 %\n",
      "Epoch [12/20], Loss: 0.0152\n",
      "Epoch [12/20], Eval: 98.3214 %\n",
      "Epoch [13/20], Loss: 0.0091\n",
      "Epoch [13/20], Eval: 98.2381 %\n",
      "Epoch [14/20], Loss: 0.0132\n",
      "Epoch [14/20], Eval: 98.5476 %\n",
      "Epoch [15/20], Loss: 0.0090\n",
      "Epoch [15/20], Eval: 98.2262 %\n",
      "Epoch [16/20], Loss: 0.0100\n",
      "Epoch [16/20], Eval: 98.1429 %\n",
      "Epoch [17/20], Loss: 0.0098\n",
      "Epoch [17/20], Eval: 98.3214 %\n",
      "Epoch [18/20], Loss: 0.0069\n",
      "Epoch [18/20], Eval: 98.5714 %\n",
      "Epoch [19/20], Loss: 0.0065\n",
      "Epoch [19/20], Eval: 98.6667 %\n",
      "Epoch [20/20], Loss: 0.0129\n",
      "Epoch [20/20], Eval: 98.4524 %\n"
     ]
    }
   ],
   "source": [
    "# Training model\n",
    "trainmodel(training_generator, eval_generator, cnn, 20)"
   ]
  },
  {
   "cell_type": "code",
   "execution_count": 48,
   "metadata": {},
   "outputs": [],
   "source": [
    "# Making the submission file\n",
    "results = pd.DataFrame(columns = ['ImageId', 'Label'])\n",
    "for i, pix in enumerate(x_test):\n",
    "    prediction = cnn(torch.from_numpy(pix).type(torch.float32).to(device))\n",
    "    pred = torch.argmax(prediction).item()\n",
    "\n",
    "    results.loc[i] = [i+1, pred]\n",
    "\n",
    "    "
   ]
  },
  {
   "cell_type": "code",
   "execution_count": 50,
   "metadata": {},
   "outputs": [],
   "source": [
    "#results.to_csv('submission.csv', encoding='utf-8', index=False)"
   ]
  }
 ],
 "metadata": {
  "kernelspec": {
   "display_name": "Python 3",
   "language": "python",
   "name": "python3"
  },
  "language_info": {
   "codemirror_mode": {
    "name": "ipython",
    "version": 3
   },
   "file_extension": ".py",
   "mimetype": "text/x-python",
   "name": "python",
   "nbconvert_exporter": "python",
   "pygments_lexer": "ipython3",
   "version": "3.8.10"
  }
 },
 "nbformat": 4,
 "nbformat_minor": 2
}
